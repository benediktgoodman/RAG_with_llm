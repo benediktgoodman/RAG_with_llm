{
 "cells": [
  {
   "cell_type": "markdown",
   "metadata": {},
   "source": [
    "# Extracting Car review data and making it ChromaDB friendly"
   ]
  },
  {
   "cell_type": "code",
   "execution_count": 2,
   "metadata": {},
   "outputs": [
    {
     "data": {
      "text/plain": [
       "dict_keys(['ids', 'documents', 'metadatas'])"
      ]
     },
     "execution_count": 2,
     "metadata": {},
     "output_type": "execute_result"
    }
   ],
   "source": [
    "from data_etl import prepare_car_reviews_data\n",
    "from text_wrap import wrap\n",
    "\n",
    "# Note how we use a wildcard here\n",
    "DATA_PATH = \"data/archive/*\"\n",
    "\n",
    "chroma_car_reviews_dict = prepare_car_reviews_data(DATA_PATH)\n",
    "chroma_car_reviews_dict.keys()"
   ]
  },
  {
   "cell_type": "code",
   "execution_count": 3,
   "metadata": {},
   "outputs": [
    {
     "name": "stdout",
     "output_type": "stream",
     "text": [
      "review5860\n",
      " I've never had a perfect car for me but this is quite close. My husband refused to ever drive an\n",
      "SUV but he loves this car. He's always looking for an excuse to drive. It has power! There are lots\n",
      "of extras in the inscription that are worth the extra money. I like the larger tires and leather\n",
      "quality especially. My kids love the car too and prefer to ride in the \"way back\". Some of the\n",
      "technology is tricky but you do get the hang of it and there are so many features that it's worth\n",
      "the effort to learn it.\n"
     ]
    }
   ],
   "source": [
    "# See a review\n",
    "print(chroma_car_reviews_dict[\"ids\"][-10])\n",
    "print(wrap(chroma_car_reviews_dict[\"documents\"][-10], 100))\n"
   ]
  },
  {
   "cell_type": "code",
   "execution_count": 7,
   "metadata": {},
   "outputs": [
    {
     "data": {
      "text/plain": [
       "[{'Review_Title': 'Never again!',\n",
       "  'Rating': 1.0,\n",
       "  'Vehicle_Year': 2017,\n",
       "  'Vehicle_Model': 'Acura'},\n",
       " {'Review_Title': 'Brake System Issue',\n",
       "  'Rating': 1.0,\n",
       "  'Vehicle_Year': 2017,\n",
       "  'Vehicle_Model': 'Acura'},\n",
       " {'Review_Title': 'A great car with a major flaw',\n",
       "  'Rating': 1.0,\n",
       "  'Vehicle_Year': 2017,\n",
       "  'Vehicle_Model': 'Acura'},\n",
       " {'Review_Title': 'Take your shutter and stick it!',\n",
       "  'Rating': 1.0,\n",
       "  'Vehicle_Year': 2017,\n",
       "  'Vehicle_Model': 'Acura'},\n",
       " {'Review_Title': '2017 Acura RDX lemon',\n",
       "  'Rating': 1.0,\n",
       "  'Vehicle_Year': 2017,\n",
       "  'Vehicle_Model': 'Acura'}]"
      ]
     },
     "execution_count": 7,
     "metadata": {},
     "output_type": "execute_result"
    }
   ],
   "source": [
    "# What metadata is in there\n",
    "chroma_car_reviews_dict.get('metadatas')[0:5]"
   ]
  },
  {
   "cell_type": "markdown",
   "metadata": {},
   "source": [
    "This is effectively what is going to happen. We assign an id to a specfic review and then add metadata. We are now going to put all of this into the ChromaDB.\n",
    "\n",
    "# Building the collection"
   ]
  },
  {
   "cell_type": "code",
   "execution_count": 4,
   "metadata": {},
   "outputs": [
    {
     "data": {
      "application/vnd.jupyter.widget-view+json": {
       "model_id": "9180fe6aa6d14d64a5f6d7c5160b8c30",
       "version_major": 2,
       "version_minor": 0
      },
      "text/plain": [
       "Downloading .gitattributes:   0%|          | 0.00/737 [00:00<?, ?B/s]"
      ]
     },
     "metadata": {},
     "output_type": "display_data"
    },
    {
     "data": {
      "application/vnd.jupyter.widget-view+json": {
       "model_id": "fcd7f25c681d4471b3018c708d5237d6",
       "version_major": 2,
       "version_minor": 0
      },
      "text/plain": [
       "Downloading 1_Pooling/config.json:   0%|          | 0.00/190 [00:00<?, ?B/s]"
      ]
     },
     "metadata": {},
     "output_type": "display_data"
    },
    {
     "data": {
      "application/vnd.jupyter.widget-view+json": {
       "model_id": "5f67e7a526b5480793d09fb38838f6dd",
       "version_major": 2,
       "version_minor": 0
      },
      "text/plain": [
       "Downloading README.md:   0%|          | 0.00/11.5k [00:00<?, ?B/s]"
      ]
     },
     "metadata": {},
     "output_type": "display_data"
    },
    {
     "data": {
      "application/vnd.jupyter.widget-view+json": {
       "model_id": "24856e5ec0c44936a018f54a8d2f8bae",
       "version_major": 2,
       "version_minor": 0
      },
      "text/plain": [
       "Downloading config.json:   0%|          | 0.00/612 [00:00<?, ?B/s]"
      ]
     },
     "metadata": {},
     "output_type": "display_data"
    },
    {
     "data": {
      "application/vnd.jupyter.widget-view+json": {
       "model_id": "816195769b3b468caf696bd8524c3775",
       "version_major": 2,
       "version_minor": 0
      },
      "text/plain": [
       "Downloading (…)ce_transformers.json:   0%|          | 0.00/116 [00:00<?, ?B/s]"
      ]
     },
     "metadata": {},
     "output_type": "display_data"
    },
    {
     "data": {
      "application/vnd.jupyter.widget-view+json": {
       "model_id": "44a1e130fe1c4b19a93838377be81a84",
       "version_major": 2,
       "version_minor": 0
      },
      "text/plain": [
       "Downloading data_config.json:   0%|          | 0.00/25.5k [00:00<?, ?B/s]"
      ]
     },
     "metadata": {},
     "output_type": "display_data"
    },
    {
     "data": {
      "application/vnd.jupyter.widget-view+json": {
       "model_id": "f07df80961d2494ca21ec97a80cd8471",
       "version_major": 2,
       "version_minor": 0
      },
      "text/plain": [
       "Downloading pytorch_model.bin:   0%|          | 0.00/90.9M [00:00<?, ?B/s]"
      ]
     },
     "metadata": {},
     "output_type": "display_data"
    },
    {
     "data": {
      "application/vnd.jupyter.widget-view+json": {
       "model_id": "83ad5f72b05d46ee9caaf0ca14a94e5c",
       "version_major": 2,
       "version_minor": 0
      },
      "text/plain": [
       "Downloading (…)nce_bert_config.json:   0%|          | 0.00/53.0 [00:00<?, ?B/s]"
      ]
     },
     "metadata": {},
     "output_type": "display_data"
    },
    {
     "data": {
      "application/vnd.jupyter.widget-view+json": {
       "model_id": "2a3917c22fe24683ade300f8eb78b802",
       "version_major": 2,
       "version_minor": 0
      },
      "text/plain": [
       "Downloading (…)cial_tokens_map.json:   0%|          | 0.00/112 [00:00<?, ?B/s]"
      ]
     },
     "metadata": {},
     "output_type": "display_data"
    },
    {
     "data": {
      "application/vnd.jupyter.widget-view+json": {
       "model_id": "68ea4c9a0d324a4286bfc84ccbeb01d6",
       "version_major": 2,
       "version_minor": 0
      },
      "text/plain": [
       "Downloading tokenizer.json:   0%|          | 0.00/466k [00:00<?, ?B/s]"
      ]
     },
     "metadata": {},
     "output_type": "display_data"
    },
    {
     "data": {
      "application/vnd.jupyter.widget-view+json": {
       "model_id": "408309eb9b994af084f44c26d3e40fe0",
       "version_major": 2,
       "version_minor": 0
      },
      "text/plain": [
       "Downloading tokenizer_config.json:   0%|          | 0.00/383 [00:00<?, ?B/s]"
      ]
     },
     "metadata": {},
     "output_type": "display_data"
    },
    {
     "data": {
      "application/vnd.jupyter.widget-view+json": {
       "model_id": "35f9de3f81cc44c795f2ef290ef73d44",
       "version_major": 2,
       "version_minor": 0
      },
      "text/plain": [
       "Downloading train_script.py:   0%|          | 0.00/13.8k [00:00<?, ?B/s]"
      ]
     },
     "metadata": {},
     "output_type": "display_data"
    },
    {
     "data": {
      "application/vnd.jupyter.widget-view+json": {
       "model_id": "f2cbc2bc6bc44013843191bc6c47d6c9",
       "version_major": 2,
       "version_minor": 0
      },
      "text/plain": [
       "Downloading vocab.txt:   0%|          | 0.00/232k [00:00<?, ?B/s]"
      ]
     },
     "metadata": {},
     "output_type": "display_data"
    },
    {
     "data": {
      "application/vnd.jupyter.widget-view+json": {
       "model_id": "d151a35d81e641499d7fb7da2024643b",
       "version_major": 2,
       "version_minor": 0
      },
      "text/plain": [
       "Downloading modules.json:   0%|          | 0.00/349 [00:00<?, ?B/s]"
      ]
     },
     "metadata": {},
     "output_type": "display_data"
    }
   ],
   "source": [
    "import chromadb\n",
    "from chromadb.utils import embedding_functions\n",
    "from data_etl import prepare_car_reviews_data\n",
    "from chroma_utils import build_chroma_collection\n",
    "\n",
    "DATA_PATH = \"data/archive/*\"\n",
    "CHROMA_PATH = \"car_review_embeddings\"\n",
    "EMBEDDING_FUNC_NAME = \"multi-qa-MiniLM-L6-cos-v1\"\n",
    "COLLECTION_NAME = \"car_reviews\"\n",
    "\n",
    "# Only trigger this function once\n",
    "# build_chroma_collection(\n",
    "#     CHROMA_PATH,\n",
    "#     COLLECTION_NAME,\n",
    "#     EMBEDDING_FUNC_NAME,\n",
    "#     chroma_car_reviews_dict[\"ids\"],\n",
    "#     chroma_car_reviews_dict[\"documents\"],\n",
    "#     chroma_car_reviews_dict[\"metadatas\"]\n",
    "# )"
   ]
  },
  {
   "cell_type": "markdown",
   "metadata": {},
   "source": [
    "# Running queries on the collection"
   ]
  },
  {
   "cell_type": "code",
   "execution_count": 12,
   "metadata": {},
   "outputs": [
    {
     "name": "stdout",
     "output_type": "stream",
     "text": [
      " I have had two other BMWs in the past and loved them.  This is my first foray into BMWs SUV world.\n",
      "I have to say that I love this vehicle just as much if not more than my others.  It is a medium size\n",
      "SUV but is engineered inside to provide maximum storage and comfort.  With the upgrade to the 6\n",
      "cylinder (which is the engine I am use to having), the fun to drive factor and performance is\n",
      "definitely still there.  My family had to run from hurricane Irma and this was our vehicle of choice\n",
      "to do so because we could count on its reliability, mpg, and roominess for us to take our two dogs\n",
      "and other essentials.\n"
     ]
    }
   ],
   "source": [
    "# Tells where db is located at (persistentclient reads from disc :))\n",
    "client = chromadb.PersistentClient(CHROMA_PATH)\n",
    "\n",
    "# Which embedding function to use for IO of the database\n",
    "embedding_func = embedding_functions.SentenceTransformerEmbeddingFunction(\n",
    "        model_name=EMBEDDING_FUNC_NAME\n",
    "    )\n",
    "\n",
    "# Retrieve collection\n",
    "collection = client.get_collection(name=COLLECTION_NAME, embedding_function=embedding_func)\n",
    "\n",
    "# Make a query to the database, note how we ask in natural language, and get an answer in natural language. Magic!\n",
    "great_reviews = collection.query(\n",
    "    query_texts=[\"Find me some positive reviews that discuss a BMW's performance\"],\n",
    "    n_results=5,\n",
    "    include=[\"documents\", \"distances\", \"metadatas\"]\n",
    ")\n",
    "\n",
    "print(wrap(great_reviews[\"documents\"][0][0], 100))"
   ]
  },
  {
   "cell_type": "code",
   "execution_count": null,
   "metadata": {},
   "outputs": [],
   "source": []
  }
 ],
 "metadata": {
  "kernelspec": {
   "display_name": "chatbot",
   "language": "python",
   "name": "python3"
  },
  "language_info": {
   "codemirror_mode": {
    "name": "ipython",
    "version": 3
   },
   "file_extension": ".py",
   "mimetype": "text/x-python",
   "name": "python",
   "nbconvert_exporter": "python",
   "pygments_lexer": "ipython3",
   "version": "3.10.13"
  }
 },
 "nbformat": 4,
 "nbformat_minor": 2
}
