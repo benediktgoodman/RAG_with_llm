{
 "cells": [
  {
   "cell_type": "markdown",
   "metadata": {},
   "source": [
    "# Providing context to an LLM using chromaDB"
   ]
  },
  {
   "cell_type": "code",
   "execution_count": 6,
   "metadata": {},
   "outputs": [],
   "source": [
    "import os\n",
    "import json\n",
    "import openai\n",
    "import chromadb\n",
    "from chromadb.utils import embedding_functions\n",
    "from text_wrap import wrap\n",
    "os.environ[\"TOKENIZERS_PARALLELISM\"] = \"false\"\n",
    "\n",
    "# Sets paths and constants\n",
    "DATA_PATH = \"data/archive/*\"\n",
    "CHROMA_PATH = \"car_review_embeddings\"\n",
    "EMBEDDING_FUNC_NAME = \"multi-qa-MiniLM-L6-cos-v1\"\n",
    "COLLECTION_NAME = \"car_reviews\"\n",
    "\n",
    "# Set api key\n",
    "with open(\"config.json\", mode=\"r\") as json_file:\n",
    "    config_data = json.load(json_file)\n",
    "\n",
    "openai.api_key = config_data.get(\"openai-secret-key\")\n",
    "\n"
   ]
  },
  {
   "cell_type": "code",
   "execution_count": 7,
   "metadata": {},
   "outputs": [],
   "source": [
    "# Set access to database\n",
    "client = chromadb.PersistentClient(CHROMA_PATH)\n",
    "\n",
    "# Set which embedding function we should use\n",
    "embedding_func = embedding_functions.SentenceTransformerEmbeddingFunction(\n",
    "    model_name=EMBEDDING_FUNC_NAME\n",
    ")\n",
    "\n",
    "# Open stream to database\n",
    "collection = client.get_collection(\n",
    "    name=COLLECTION_NAME, embedding_function=embedding_func\n",
    ")\n",
    "\n"
   ]
  },
  {
   "cell_type": "markdown",
   "metadata": {},
   "source": [
    "Now that we've set everythin up, we are going to:\n",
    "1. Setup a context prompt\n",
    "2. Put in an example question\n",
    "3. Retrieve relevant contextual data from ChromaDB based on the question\n",
    "4. Concat that into a string (that's what the LLMs like), pass it to the LLM as a \"system\" prompt. This essentially works just like a passing a question, but it's interpreted as data to base the answer off of by the model.\n",
    "5. Pass the question to the model\n",
    "6. Get answer based on relevant context provided by ChromaDB"
   ]
  },
  {
   "cell_type": "code",
   "execution_count": 8,
   "metadata": {},
   "outputs": [
    {
     "name": "stdout",
     "output_type": "stream",
     "text": [
      " Great value, awesome reliability, I normally dont do reviews, but thought this was worth writing. I\n",
      "own 3 pickups and am not brand dedicated because there are so many nice trucks. I own 3 different\n",
      "trucks. I am drawn to looks first then power and interior. I have notice reading reviews that most\n",
      "want to beat the trucks up, there are no perfect trucks. The Nissan drew me in because it was\n",
      "different and I dont recall any recalls. I owned a Xterra and it was bulletproof and am hoping for\n",
      "the same on my Titan. After looking at all brands and I liked them all, I really like the warranty\n",
      "on my Titan and I got more equipment for the money than the competitors. My first and second tank of\n",
      "fuel at 70 mpg I got 17.5, I was very pleased and when it get broke in I hope for 20. I find it to\n",
      "be very quiet and so were all the others on top of the line. I guess I could beat the truck up with\n",
      "small complaints but sure makes spending my money on it hard to swallow. If the truck last me for 10\n",
      "years I will be very pleased. I know the ride will get much better as it has in all my cars and\n",
      "trucks in time. I hope you enjoy your new purchase as much as I am enjoying mine., Very  pleased!\n",
      "Great deal! So far so good!, I don't normally review anything, but I feel compelled to write about\n",
      "this car.  With a daily round trip commute of 108 miles, I was tired of the constant trips to gas\n",
      "stations and the expense.  After just a month with this car, I am blown away.  It is the most\n",
      "economical, practical, comfortable commuter vehicle that you can buy.  Never being a big fan of\n",
      "Hyundai, I was skeptical on a number of fronts - reliability/quality, comfort, and ride quality.\n",
      "This car is ghostly silent with a perfect driving position, comfortable seating and good ergonomics.\n",
      "Having owned a number of luxury cars and currently an owner of a BMW X5 Diesel (also a great\n",
      "economical SUV) I am really impressed with ride and build quality.  I am currently running 33-34\n",
      "miles on pure electric and averaging close to 80 MPGs for my commute. I plug it in at night and at\n",
      "work - 110V outlet takes about 8-9 hours.   Too early to give a report on long term reliability, but\n",
      "with 100K powertrain warranty and lifetime battery warranty I am covered for alt least 4 years of\n",
      "commuting. Good looking vehicle - conservatively sharp, without the typical Hybrid space ship looks.\n",
      "One word - impressed., Excellent quality, technology, comfort and value. Way impressed with this\n",
      "vehicle., Things I love: styling, performance, large info center, smooth acceleration, no gas\n",
      "stations, low maintenance costs, incredible sound system, frunk and sub-trunk, rear cargo space, HOV\n",
      "lane, federal tax credit, summons feature, replacement parts seem nicely priced, my first Service\n",
      "Center experience was excellent, my first body shop experience was very good, many people think you\n",
      "are \"cool\" and environmentally friendly (and you are).          Things I wish were better: fit and\n",
      "finish of body parts (not up to premium car standard), auto pilot still not a wow...needs more\n",
      "development, blind spot monitor is below expectations for such an advance vehicle, difficulty\n",
      "getting in and out of front seat...if you are tall, the front seat goes behind the \"B\" pillar too\n",
      "far thus the entering and exiting is more difficult. Final Verdict. I love the car. I doubt I would\n",
      "ever buy an ICE car again., Good overall but a lot of others out there., Excellent choice, so far,\n",
      "so good.  I got the S-Line, Premium Plus package and am very happy with it.  Quality it top notch\n",
      "inside and out.  No issues at all, though I've only had it for a month and about 1500 miles., After\n",
      "all the facts and findings over all review is outstanding.\n"
     ]
    }
   ],
   "source": [
    "context = \"\"\"\n",
    "You are a customer success employee at a large\n",
    " car dealership. Use the following car reviews\n",
    " to answer questions: {}\n",
    "\"\"\"\n",
    "\n",
    "question = \"\"\"\n",
    "What's the key to great customer satisfaction\n",
    " based on detailed positive reviews?\n",
    "\"\"\"\n",
    "\n",
    "# Get reviews from ChromaDB\n",
    "good_reviews = collection.query(\n",
    "    query_texts=[question],\n",
    "    n_results=10,\n",
    "    include=[\"documents\"],\n",
    "    where={\"Rating\": {\"$gte\": 3}},\n",
    ")\n",
    "\n",
    "# Concat to one string\n",
    "reviews_str = \",\".join(good_reviews[\"documents\"][0])\n",
    "\n",
    "\n",
    "print(wrap(reviews_str))"
   ]
  },
  {
   "cell_type": "code",
   "execution_count": 9,
   "metadata": {},
   "outputs": [],
   "source": [
    "# Get openAI to summarise the data handed to it vi the system role\n",
    "good_review_summaries = openai.ChatCompletion.create(\n",
    "    model=\"gpt-3.5-turbo\",\n",
    "    messages=[\n",
    "        {\"role\": \"system\", \"content\": context.format(reviews_str)},\n",
    "        {\"role\": \"user\", \"content\": question},\n",
    "    ],\n",
    "    temperature=0,\n",
    "    n=1,\n",
    ")\n"
   ]
  },
  {
   "cell_type": "code",
   "execution_count": 10,
   "metadata": {},
   "outputs": [
    {
     "name": "stdout",
     "output_type": "stream",
     "text": [
      "Based on the detailed positive reviews, the key to great customer satisfaction seems to be a combination of the following factors:\n",
      "\n",
      "1. Value for money: Customers appreciate getting more equipment and features for their money compared to competitors.\n",
      "\n",
      "2. Reliability: Customers value cars that are reliable and have a good track record, with no recalls or major issues.\n",
      "\n",
      "3. Performance: Customers are drawn to cars that have good power and acceleration.\n",
      "\n",
      "4. Comfort and quietness: Customers appreciate cars that provide a comfortable and quiet driving experience.\n",
      "\n",
      "5. Fuel efficiency: Customers are pleased with cars that offer excellent fuel efficiency, reducing the need for frequent trips to the gas station.\n",
      "\n",
      "6. Warranty and coverage: Customers feel more satisfied when their cars come with a comprehensive warranty and coverage, providing them with peace of mind.\n",
      "\n",
      "7. Longevity: Customers are pleased when their cars are expected to last for a long time, giving them value for their investment.\n",
      "\n",
      "8. Quality and build: Customers value cars that have excellent build quality, both inside and out.\n",
      "\n",
      "9. Technology and features: Customers appreciate cars that offer advanced technology, such as infotainment systems and safety features.\n",
      "\n",
      "10. Positive dealership experience: Customers mention positive experiences with service centers and body shops, indicating that good customer service plays a role in overall satisfaction.\n",
      "\n",
      "By focusing on these factors, car dealerships can enhance customer satisfaction and build a loyal customer base.\n"
     ]
    }
   ],
   "source": [
    "print(good_review_summaries[\"choices\"][0][\"message\"][\"content\"])"
   ]
  },
  {
   "cell_type": "markdown",
   "metadata": {},
   "source": [
    "Lets now give it some bad reviews and find out which of the reviews are the worst."
   ]
  },
  {
   "cell_type": "code",
   "execution_count": 17,
   "metadata": {},
   "outputs": [
    {
     "name": "stdout",
     "output_type": "stream",
     "text": [
      " I have been to the dealership four times and I still have unresolved electrical issues, from the\n",
      "Bluetooth, backup camera, truck wont open, black screen every other trip turning off, clock wont\n",
      "work, seatbelts NOT WORKING !!!!!!!! which really pisses me off as I have a child in the car. So\n",
      "many issues in a short period of time it has become the worst vehicle I have owned unfortunately and\n",
      "to the point where I will drop the car off back at the dealership and purchase something else. I\n",
      "don't have the time to deal with a vehicle of 53k value as if it were pieced together from spare\n",
      "parts from a junkyard. I always read reviews before buying vehicles and I have stuck with Nissan &\n",
      "Infiniti for the past ten years for their workhorse engines as two of my Nissans went to 289k & 377k\n",
      "miles but after this SUV I am jumping ship as soon as possible., Loved the car when we bought it.\n",
      "Good features overall but not as good as the Caddy I traded.  Then the nightmare begins.  the car\n",
      "has been in the shop for a total of 14 days on 3 occasions and is currently still there.  A few\n",
      "problems that are not minor.  1. transmission leak, dealer did not have parts to repair and had to\n",
      "order.  Mechanic broke the spindle nut putting it back together, and dealer did not have the part\n",
      "took days to get.  2. leaking rear shock and bad spring bushing, you guessed it, dealer did not have\n",
      "parts. 3. rear wheels out of alignment from factory wore tires to cord before discovered. shop says\n",
      "came from factory out of alignment. really frustrated with the vehicle.  might have a lemon on my\n",
      "hands.  One positive is the dealer has been very good to work with so far.  going to contact GMC for\n",
      "a meeting with their rep., The worst car I have owned. Poor build quality. Constant problems with\n",
      "the entertainment system that I paid an additional $2000 for.  The poorest customer service that I\n",
      "have ever hadThere are other choices that are far better quality with better customer service. Don't\n",
      "make the same mistake that I made and buy a Jaguar, the GOOD BAD AND ugLY Car is attractive and\n",
      "quite nicely done Sport AWD Ultimate very nimble excellent execration turns on a dime and handles\n",
      ".corners excellent...we have less than a thousand miles on it all city miles..........I wish I never\n",
      "bought it. never had such a uncomfortable drivers seat..the rest of the seats are comfortable..the\n",
      "driver  seat itself is hard of the rock  to sit on but all though the materials are high quality\n",
      "...the seat is short in depth front to back and do not pick up thighs ....nor does the seat tilt\n",
      "...the back rest tilts but not the seat which only goes up and down and back and forward..the car is\n",
      "like a nanny watching for safety and it takes time to figure out all the technology....my big gripe\n",
      "and I am pissed that on a 4 cylinder driving carefully in the city in econo I am getting an average\n",
      "of 16 mpg ...that is right in city careful driving 16 mpg on a 4 cylinder Turbo with AWD ..come on\n",
      "Hyundai false advertising on mileage buyers should be seeking recourse....would never had bought the\n",
      "car if I new it had that bad of language ......would never have bought the car if I new my prostrate\n",
      "would suffer every time I had to drive it.....but as I say my wife loves it I should have given her\n",
      "the bill.....the entertainment and technology is very well done and quality materials thru out...go\n",
      "out an rent one and drive it for a week before you decide......believe outback is better buy and so\n",
      "is pathfinder SL in 4 wheel drive and so is highlander SE.............if the car had a comfortable\n",
      "drivers seat and was actually 19 24 it be a good one ....I just wish I could get my money back we\n",
      "have less than 1000 miles on it...Car list 39,800 I paid 34,200 plus 3300 Tax 500 DMV 1700 for\n",
      "prepaid maint for 7 yrs and 2000 for extended bumper to bumper warranty, I rent the base model when\n",
      "the car rental ran out of cars and gave us an impassible upgrade deal. Car looks great as I caught\n",
      "many glances from passerby like am a rich guy, funny it was when people judge me by the look, oh\n",
      "well!!! Here is the good, bad and the ugly. Good: look, very quiet, feel slow like 55 mph but\n",
      "actually fly at 85, parking assist with great view even in low light, great interior and fitting,\n",
      "really cold a/c, big trunk area, good space 2nd row. Bad: slow acceleration, only use super unleaded\n",
      "at least 91 octane, gas guzzler when use cruise control, no 3rd row, keeps asking me to rest with\n",
      "night driving almost every hour. And the UGLY are: rain activated wipers that  wipe like I dance on\n",
      "hot charcoals with no option to control its rate (make visibility nil and very dangerous; better\n",
      "with  slower swing so I can still see in between the beats; too fast and the water can't drain off\n",
      "the windshield); next is the rotating selector and the little screen that I can use my finger to\n",
      "write, instead I wanted to give it a finger; an absolutely waste of time, unless Benz replaces it\n",
      "with touch screen than I will call it AWESOMENESS, not yet Benz. The next troll is the seat design.\n",
      "Worse than an \"economy\" car. Not only my butt but all passengers ended up with butt bruises, well\n",
      "that is a little exacerbated but it was a \"pain in the butt\". The seats are tooo firm, Benz, unless\n",
      "Germans was spanked so much when little that they have better tolerance. And lumbar support for\n",
      "front seats are bad that I had to snug a small blanket there. Ok, I rant much now so need a break.\n",
      "Until next time...\n"
     ]
    }
   ],
   "source": [
    "question = \"\"\"\n",
    "Which of these poor reviews has the\n",
    " worst implications about our dealership?\n",
    " Explain why.\n",
    "\"\"\"\n",
    "\n",
    "poor_reviews = collection.query(\n",
    "    query_texts=[question],\n",
    "    n_results=5,\n",
    "    include=[\"documents\"],\n",
    "    # Rating is low\n",
    "    where={\"Rating\": {\"$lte\": 3}},\n",
    ")\n",
    "\n",
    "reviews_str = \",\".join(poor_reviews[\"documents\"][0])\n",
    "\n",
    "print(wrap(reviews_str))"
   ]
  },
  {
   "cell_type": "code",
   "execution_count": null,
   "metadata": {},
   "outputs": [],
   "source": [
    "poor_review_analysis = openai.ChatCompletion.create(\n",
    "    model=\"gpt-3.5-turbo\",\n",
    "    messages=[\n",
    "        {\"role\": \"system\", \"content\": context.format(reviews_str)},\n",
    "        {\"role\": \"user\", \"content\": question},\n",
    "    ],\n",
    "    temperature=0,\n",
    "    n=1,\n",
    ")"
   ]
  },
  {
   "cell_type": "code",
   "execution_count": 13,
   "metadata": {},
   "outputs": [
    {
     "name": "stdout",
     "output_type": "stream",
     "text": [
      "The first review has the worst implications about the dealership. This is because the customer\n",
      "mentions multiple unresolved electrical issues with their vehicle, including problems with the\n",
      "Bluetooth, backup camera, trunk, black screen, clock, and seatbelts. These issues are not minor and\n",
      "are causing frustration and inconvenience for the customer, especially since they have a child in\n",
      "the car. The customer also expresses their dissatisfaction with the vehicle and states that they\n",
      "will drop it off at the dealership and purchase something else. This implies that the dealership has\n",
      "not been able to effectively address and resolve the customer's concerns, leading to a negative\n",
      "experience and potentially losing a loyal customer.\n"
     ]
    }
   ],
   "source": [
    "print(wrap(poor_review_analysis[\"choices\"][0][\"message\"][\"content\"]))"
   ]
  },
  {
   "cell_type": "code",
   "execution_count": null,
   "metadata": {},
   "outputs": [],
   "source": []
  }
 ],
 "metadata": {
  "kernelspec": {
   "display_name": "chatbot",
   "language": "python",
   "name": "python3"
  },
  "language_info": {
   "codemirror_mode": {
    "name": "ipython",
    "version": 3
   },
   "file_extension": ".py",
   "mimetype": "text/x-python",
   "name": "python",
   "nbconvert_exporter": "python",
   "pygments_lexer": "ipython3",
   "version": "3.10.13"
  }
 },
 "nbformat": 4,
 "nbformat_minor": 2
}
