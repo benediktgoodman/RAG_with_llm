{
 "cells": [
  {
   "cell_type": "code",
   "execution_count": 3,
   "metadata": {},
   "outputs": [],
   "source": [
    "import os\n",
    "import json\n",
    "import openai\n",
    "from text_wrap import wrap\n",
    "\n",
    "# Supresses huggingface warning tokens\n",
    "os.environ[\"TOKENIZERS_PARALLELISM\"] = \"false\"\n",
    "\n",
    "# Gets api key\n",
    "with open(\"config.json\", mode=\"r\") as json_file:\n",
    "    config_data = json.load(json_file)\n",
    "\n",
    "# Sets api_key as attribute of open-ai\n",
    "openai.api_key = config_data.get(\"openai-secret-key\")\n"
   ]
  },
  {
   "cell_type": "code",
   "execution_count": 2,
   "metadata": {},
   "outputs": [
    {
     "name": "stdout",
     "output_type": "stream",
     "text": [
      "The key to great customer satisfaction is providing exceptional customer service. This involves understanding and anticipating the needs of customers, being responsive and attentive to their inquiries and concerns, and going above and beyond to exceed their expectations. Building strong relationships with customers, being knowledgeable about the products and services offered, and consistently delivering a positive and personalized experience are also crucial. Additionally, actively seeking feedback and continuously improving based on customer input is essential for maintaining high levels of customer satisfaction.\n"
     ]
    }
   ],
   "source": [
    "context = \"You are a customer success employee at a large car dealership.\"\n",
    "question = \"What's the key to great customer satisfaction?\"\n",
    "\n",
    "# Send and return chat response\n",
    "chat_response = openai.ChatCompletion.create(\n",
    "    model=\"gpt-3.5-turbo\",\n",
    "    messages=[\n",
    "        # content key-value pair sets the role for the LLM - i.e. a role-prompt\n",
    "        {\"role\": \"system\", \"content\": context},\n",
    "        {\"role\": \"user\", \"content\": question},\n",
    "    ],\n",
    "    temperature=0,\n",
    "    n=1,\n",
    ")\n",
    "\n"
   ]
  },
  {
   "cell_type": "code",
   "execution_count": 4,
   "metadata": {},
   "outputs": [
    {
     "name": "stdout",
     "output_type": "stream",
     "text": [
      "The key to great customer satisfaction is providing exceptional customer service. This involves\n",
      "understanding and anticipating the needs of customers, being responsive and attentive to their\n",
      "inquiries and concerns, and going above and beyond to exceed their expectations. Building strong\n",
      "relationships with customers, being knowledgeable about the products and services offered, and\n",
      "consistently delivering a positive and personalized experience are also crucial. Additionally,\n",
      "actively seeking feedback and continuously improving based on customer input is essential for\n",
      "maintaining high levels of customer satisfaction.\n"
     ]
    }
   ],
   "source": [
    "print(wrap(chat_response[\"choices\"][0][\"message\"][\"content\"]))"
   ]
  },
  {
   "cell_type": "code",
   "execution_count": null,
   "metadata": {},
   "outputs": [],
   "source": []
  }
 ],
 "metadata": {
  "kernelspec": {
   "display_name": "chatbot",
   "language": "python",
   "name": "python3"
  },
  "language_info": {
   "codemirror_mode": {
    "name": "ipython",
    "version": 3
   },
   "file_extension": ".py",
   "mimetype": "text/x-python",
   "name": "python",
   "nbconvert_exporter": "python",
   "pygments_lexer": "ipython3",
   "version": "3.10.13"
  }
 },
 "nbformat": 4,
 "nbformat_minor": 2
}
